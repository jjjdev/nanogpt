{
 "cells": [
  {
   "cell_type": "code",
   "execution_count": null,
   "metadata": {},
   "outputs": [],
   "source": []
  },
  {
   "cell_type": "markdown",
   "metadata": {},
   "source": [
    "### Get the Dataset to train on"
   ]
  },
  {
   "cell_type": "code",
   "execution_count": 3,
   "metadata": {},
   "outputs": [
    {
     "name": "stderr",
     "output_type": "stream",
     "text": [
      "--2024-03-03 00:35:46--  https://raw.githubusercontent.com/karpathy/char-rnn/master/data/tinyshakespeare/input.txt\n",
      "Resolving raw.githubusercontent.com (raw.githubusercontent.com)... 185.199.110.133, 185.199.111.133, 185.199.108.133, ...\n",
      "Connecting to raw.githubusercontent.com (raw.githubusercontent.com)|185.199.110.133|:443... connected.\n",
      "HTTP request sent, awaiting response... 200 OK\n",
      "Length: 1115394 (1.1M) [text/plain]\n",
      "Saving to: 'input.txt'\n",
      "\n",
      "     0K .......... .......... .......... .......... ..........  4% 1.58M 1s\n",
      "    50K .......... .......... .......... .......... ..........  9% 6.01M 0s\n",
      "   100K .......... .......... .......... .......... .......... 13% 3.05M 0s\n",
      "   150K .......... .......... .......... .......... .......... 18% 5.29M 0s\n",
      "   200K .......... .......... .......... .......... .......... 22% 2.62M 0s\n",
      "   250K .......... .......... .......... .......... .......... 27% 7.53M 0s\n",
      "   300K .......... .......... .......... .......... .......... 32% 6.62M 0s\n",
      "   350K .......... .......... .......... .......... .......... 36% 2.63M 0s\n",
      "   400K .......... .......... .......... .......... .......... 41% 87.8M 0s\n",
      "   450K .......... .......... .......... .......... .......... 45% 9.40M 0s\n",
      "   500K .......... .......... .......... .......... .......... 50% 49.3M 0s\n",
      "   550K .......... .......... .......... .......... .......... 55% 15.4M 0s\n",
      "   600K .......... .......... .......... .......... .......... 59% 2.34M 0s\n",
      "   650K .......... .......... .......... .......... .......... 64% 23.1M 0s\n",
      "   700K .......... .......... .......... .......... .......... 68% 29.1M 0s\n",
      "   750K .......... .......... .......... .......... .......... 73%  115M 0s\n",
      "   800K .......... .......... .......... .......... .......... 78% 16.3M 0s\n",
      "   850K .......... .......... .......... .......... .......... 82% 14.5M 0s\n",
      "   900K .......... .......... .......... .......... .......... 87% 23.2M 0s\n",
      "   950K .......... .......... .......... .......... .......... 91%  117M 0s\n",
      "  1000K .......... .......... .......... .......... .......... 96% 27.0M 0s\n",
      "  1050K .......... .......... .......... .........            100%  133M=0.2s\n",
      "\n",
      "2024-03-03 00:35:46 (6.59 MB/s) - 'input.txt' saved [1115394/1115394]\n",
      "\n"
     ]
    }
   ],
   "source": [
    "# First lets get the tiny shakespeare dataset\n",
    "!wget https://raw.githubusercontent.com/karpathy/char-rnn/master/data/tinyshakespeare/input.txt\n"
   ]
  },
  {
   "cell_type": "code",
   "execution_count": 4,
   "metadata": {},
   "outputs": [],
   "source": [
    "# Read it in to inspect it\n",
    "with open('input.txt', 'r', encoding='utf-8') as file:\n",
    "    text = file.read()"
   ]
  },
  {
   "cell_type": "code",
   "execution_count": 5,
   "metadata": {},
   "outputs": [
    {
     "name": "stdout",
     "output_type": "stream",
     "text": [
      "length of dataset in chars:  1115394\n"
     ]
    }
   ],
   "source": [
    "# check the length of the text\n",
    "print (\"length of dataset in chars: \", len(text))"
   ]
  },
  {
   "cell_type": "code",
   "execution_count": 6,
   "metadata": {},
   "outputs": [
    {
     "name": "stdout",
     "output_type": "stream",
     "text": [
      "First Citizen:\n",
      "Before we proceed any further, hear me speak.\n",
      "\n",
      "All:\n",
      "Speak, speak.\n",
      "\n",
      "First Citizen:\n",
      "You are all resolved rather to die than to famish?\n",
      "\n",
      "All:\n",
      "Resolved. resolved.\n",
      "\n",
      "First Citizen:\n",
      "First, you know Caius Marcius is chief enemy to the people.\n",
      "\n",
      "All:\n",
      "We know't, we know't.\n",
      "\n",
      "First Citizen:\n",
      "Let us kill him, and we'll have corn at our own price.\n",
      "Is't a verdict?\n",
      "\n",
      "All:\n",
      "No more talking on't; let it be done: away, away!\n",
      "\n",
      "Second Citizen:\n",
      "One word, good citizens.\n",
      "\n",
      "First Citizen:\n",
      "We are accounted poor citizens, the patricians good.\n",
      "What authority surfeits on would relieve us: if they\n",
      "would yield us but the superfluity, while it were\n",
      "wholesome, we might guess they relieved us humanely;\n",
      "but they think we are too dear: the leanness that\n",
      "afflicts us, the object of our misery, is as an\n",
      "inventory to particularise their abundance; our\n",
      "sufferance is a gain to them Let us revenge this with\n",
      "our pikes, ere we become rakes: for the gods know I\n",
      "speak this in hunger for bread, not in thirst for revenge.\n",
      "\n",
      "\n"
     ]
    }
   ],
   "source": [
    "# Lets check the first 1000 characters\n",
    "print(text[:1000])"
   ]
  },
  {
   "cell_type": "code",
   "execution_count": null,
   "metadata": {},
   "outputs": [],
   "source": []
  }
 ],
 "metadata": {
  "kernelspec": {
   "display_name": "Python 3",
   "language": "python",
   "name": "python3"
  },
  "language_info": {
   "codemirror_mode": {
    "name": "ipython",
    "version": 3
   },
   "file_extension": ".py",
   "mimetype": "text/x-python",
   "name": "python",
   "nbconvert_exporter": "python",
   "pygments_lexer": "ipython3",
   "version": "3.10.10"
  }
 },
 "nbformat": 4,
 "nbformat_minor": 2
}
